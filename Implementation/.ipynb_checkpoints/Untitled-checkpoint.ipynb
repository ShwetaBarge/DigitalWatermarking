{
 "cells": [
  {
   "cell_type": "code",
   "execution_count": 5,
   "metadata": {},
   "outputs": [],
   "source": [
    "import qrcode\n",
    "import numpy as np\n",
    "import matplotlib.pyplot as plt\n",
    "from PIL import Image \n",
    "import PIL\n",
    "from skimage.measure import compare_ssim\n",
    "import cv2\n",
    "from numpy import *\n",
    "import pywt\n",
    "from resizeimage import resizeimage\n",
    "import skimage.color"
   ]
  },
  {
   "cell_type": "code",
   "execution_count": 2,
   "metadata": {},
   "outputs": [],
   "source": [
    "from scipy.optimize import rosen, differential_evolution\n",
    "bounds = [(0,2), (0, 2), (0, 2), (0, 2), (0, 2)]\n",
    "result = differential_evolution(rosen, bounds)"
   ]
  },
  {
   "cell_type": "code",
   "execution_count": 3,
   "metadata": {},
   "outputs": [
    {
     "data": {
      "text/plain": [
       "     fun: 0.0\n",
       " message: 'Optimization terminated successfully.'\n",
       "    nfev: 46206\n",
       "     nit: 615\n",
       " success: True\n",
       "       x: array([1., 1., 1., 1., 1.])"
      ]
     },
     "execution_count": 3,
     "metadata": {},
     "output_type": "execute_result"
    }
   ],
   "source": [
    "result"
   ]
  },
  {
   "cell_type": "code",
   "execution_count": 4,
   "metadata": {},
   "outputs": [],
   "source": [
    "result?"
   ]
  },
  {
   "cell_type": "code",
   "execution_count": 14,
   "metadata": {},
   "outputs": [],
   "source": [
    "# -*- coding: utf-8 -*-\n",
    "# @Time    : 14/04/2017 14:46\n",
    "# @Author  : Luke\n",
    "# @Software: PyCharm\n",
    "\n",
    "import cv2\n",
    "import pywt\n",
    "import numpy as np\n",
    "\n",
    "\n",
    "class Components():\n",
    "    Coefficients = []\n",
    "    U = None\n",
    "    S = None\n",
    "    V = None\n",
    "\n",
    "\n",
    "class watermarking():\n",
    "    \"\"\"\n",
    "    :param watermark_path:\n",
    "    :param ratio:\n",
    "    :param wavelet:\n",
    "    :param level:\n",
    "    \"\"\"\n",
    "    def __init__(self, watermark_path=\"watermark1.jpg\", ratio=0.1, wavelet=\"haar\",\n",
    "                 level=2):\n",
    "        self.level = level\n",
    "        self.wavelet = wavelet\n",
    "        self.ratio = ratio\n",
    "        self.shape_watermark = cv2.imread(watermark_path).shape  \n",
    "        self.W_components = Components()\n",
    "        self.img_components = Components()\n",
    "        self.W_components.Coefficients, self.W_components.U, \\\n",
    "        self.W_components.S, self.W_components.V = self.calculate(watermark_path)\n",
    "        #self.W_ndarr = cv2.imread(watermark_path,0)\n",
    "        #print(\"watermark\", self.W_ndarr.shape)\n",
    "\n",
    "    def calculate(self, img):\n",
    "        '''\n",
    "        To calculate the Coefficients and SVD components.\n",
    "        :param img: should be a numpy array or the path of the image.\n",
    "        '''\n",
    "        if isinstance(img, str):\n",
    "            img = cv2.imread(img, 0)\n",
    "        Coefficients = pywt.wavedec2(img, wavelet=self.wavelet, level=self.level)\n",
    "        self.shape_LL = Coefficients[0].shape\n",
    "        U, S, V = np.linalg.svd(Coefficients[0])\n",
    "        return Coefficients, U, S, V\n",
    "\n",
    "    def diag(self, s):\n",
    "        '''\n",
    "        To recover the singular values to be a matrix.\n",
    "        :param s: a 1D numpy array\n",
    "        '''\n",
    "        S = np.zeros(self.shape_LL)\n",
    "        row = min(S.shape)\n",
    "        S[:row, :row] = np.diag(s)\n",
    "        return S\n",
    "\n",
    "    def recover(self, name):\n",
    "        '''\n",
    "        To recover the image from the svd components and DWT\n",
    "        :param name:\n",
    "        '''\n",
    "        components = eval(\"self.{}_components\".format(name))\n",
    "        s = eval(\"self.S_{}\".format(name))\n",
    "        components.Coefficients[0] = components.U.dot(self.diag(s)).dot(components.V)\n",
    "        return pywt.waverec2(components.Coefficients, wavelet=self.wavelet)\n",
    "\n",
    "    def watermark(self, img=\"lena.jpg\", path_save=None):\n",
    "        '''\n",
    "        This is the main function for image watermarking.\n",
    "        :param img: image path or numpy array of the image.\n",
    "        '''\n",
    "        if not path_save:\n",
    "            path_save = \"watermarked_\" + img\n",
    "        self.path_save = path_save\n",
    "        self.img_components.Coefficients, self.img_components.U, \\\n",
    "        self.img_components.S, self.img_components.V = self.calculate(img)\n",
    "        self.embed()\n",
    "        img_rec = self.recover(\"img\")   #watermarked image\n",
    "        cv2.imwrite(path_save, img_rec)\n",
    "\n",
    "    def extracted(self, image_path=None, ratio=None, extracted_watermark_path = None):\n",
    "        '''\n",
    "        Extracted the watermark from the given image.\n",
    "        '''\n",
    "        if not extracted_watermark_path:\n",
    "            extracted_watermark_path = \"watermark_extracted.jpg\"\n",
    "        if not image_path:\n",
    "            image_path = self.path_save\n",
    "        img = cv2.imread(image_path,0)\n",
    "        img = cv2.resize(img, self.shape_watermark)\n",
    "        img_components = Components() #watermarked image\n",
    "        img_components.Coefficients, img_components.U, img_components.S, img_components.V = self.calculate(img)\n",
    "        ratio_ = self.ratio if not ratio else ratio\n",
    "        self.S_W = (img_components.S - self.img_components.S) / ratio_\n",
    "        watermark_extracted = self.recover(\"W\")\n",
    "        cv2.imwrite(extracted_watermark_path, watermark_extracted)\n",
    "\n",
    "    def embed(self):\n",
    "        self.S_img = self.img_components.S + self.ratio * self.W_components.S * \\\n",
    "                                             (self.img_components.S.max() / self.W_components.S.max())"
   ]
  },
  {
   "cell_type": "code",
   "execution_count": 15,
   "metadata": {},
   "outputs": [
    {
     "ename": "AttributeError",
     "evalue": "'NoneType' object has no attribute 'shape'",
     "output_type": "error",
     "traceback": [
      "\u001b[1;31m---------------------------------------------------------------------------\u001b[0m",
      "\u001b[1;31mAttributeError\u001b[0m                            Traceback (most recent call last)",
      "\u001b[1;32m<ipython-input-15-efccb5f43d13>\u001b[0m in \u001b[0;36m<module>\u001b[1;34m\u001b[0m\n\u001b[1;32m----> 1\u001b[1;33m \u001b[0mwatermarking\u001b[0m \u001b[1;33m=\u001b[0m \u001b[0mwatermarking\u001b[0m\u001b[1;33m(\u001b[0m\u001b[1;33m)\u001b[0m\u001b[1;33m\u001b[0m\u001b[1;33m\u001b[0m\u001b[0m\n\u001b[0m\u001b[0;32m      2\u001b[0m \u001b[0mwatermarking\u001b[0m\u001b[1;33m.\u001b[0m\u001b[0mwatermark\u001b[0m\u001b[1;33m(\u001b[0m\u001b[1;33m)\u001b[0m\u001b[1;33m\u001b[0m\u001b[1;33m\u001b[0m\u001b[0m\n\u001b[0;32m      3\u001b[0m \u001b[0mwatermarking\u001b[0m\u001b[1;33m.\u001b[0m\u001b[0mextracted\u001b[0m\u001b[1;33m(\u001b[0m\u001b[1;33m)\u001b[0m\u001b[1;33m\u001b[0m\u001b[1;33m\u001b[0m\u001b[0m\n",
      "\u001b[1;32m<ipython-input-14-7192f7fe65d6>\u001b[0m in \u001b[0;36m__init__\u001b[1;34m(self, watermark_path, ratio, wavelet, level)\u001b[0m\n\u001b[0;32m     28\u001b[0m         \u001b[0mself\u001b[0m\u001b[1;33m.\u001b[0m\u001b[0mwavelet\u001b[0m \u001b[1;33m=\u001b[0m \u001b[0mwavelet\u001b[0m\u001b[1;33m\u001b[0m\u001b[1;33m\u001b[0m\u001b[0m\n\u001b[0;32m     29\u001b[0m         \u001b[0mself\u001b[0m\u001b[1;33m.\u001b[0m\u001b[0mratio\u001b[0m \u001b[1;33m=\u001b[0m \u001b[0mratio\u001b[0m\u001b[1;33m\u001b[0m\u001b[1;33m\u001b[0m\u001b[0m\n\u001b[1;32m---> 30\u001b[1;33m         \u001b[0mself\u001b[0m\u001b[1;33m.\u001b[0m\u001b[0mshape_watermark\u001b[0m \u001b[1;33m=\u001b[0m \u001b[0mcv2\u001b[0m\u001b[1;33m.\u001b[0m\u001b[0mimread\u001b[0m\u001b[1;33m(\u001b[0m\u001b[0mwatermark_path\u001b[0m\u001b[1;33m)\u001b[0m\u001b[1;33m.\u001b[0m\u001b[0mshape\u001b[0m\u001b[1;33m\u001b[0m\u001b[1;33m\u001b[0m\u001b[0m\n\u001b[0m\u001b[0;32m     31\u001b[0m         \u001b[0mself\u001b[0m\u001b[1;33m.\u001b[0m\u001b[0mW_components\u001b[0m \u001b[1;33m=\u001b[0m \u001b[0mComponents\u001b[0m\u001b[1;33m(\u001b[0m\u001b[1;33m)\u001b[0m\u001b[1;33m\u001b[0m\u001b[1;33m\u001b[0m\u001b[0m\n\u001b[0;32m     32\u001b[0m         \u001b[0mself\u001b[0m\u001b[1;33m.\u001b[0m\u001b[0mimg_components\u001b[0m \u001b[1;33m=\u001b[0m \u001b[0mComponents\u001b[0m\u001b[1;33m(\u001b[0m\u001b[1;33m)\u001b[0m\u001b[1;33m\u001b[0m\u001b[1;33m\u001b[0m\u001b[0m\n",
      "\u001b[1;31mAttributeError\u001b[0m: 'NoneType' object has no attribute 'shape'"
     ]
    }
   ],
   "source": [
    "watermarking = watermarking()\n",
    "watermarking.watermark()\n",
    "watermarking.extracted()"
   ]
  },
  {
   "cell_type": "code",
   "execution_count": null,
   "metadata": {},
   "outputs": [],
   "source": []
  }
 ],
 "metadata": {
  "kernelspec": {
   "display_name": "Python 3",
   "language": "python",
   "name": "python3"
  },
  "language_info": {
   "codemirror_mode": {
    "name": "ipython",
    "version": 3
   },
   "file_extension": ".py",
   "mimetype": "text/x-python",
   "name": "python",
   "nbconvert_exporter": "python",
   "pygments_lexer": "ipython3",
   "version": "3.7.4"
  }
 },
 "nbformat": 4,
 "nbformat_minor": 2
}
