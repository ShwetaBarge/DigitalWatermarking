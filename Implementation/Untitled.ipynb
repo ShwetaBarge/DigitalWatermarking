{
 "cells": [
  {
   "cell_type": "code",
   "execution_count": 1,
   "metadata": {},
   "outputs": [],
   "source": [
    "import qrcode\n",
    "import numpy as np\n",
    "import matplotlib.pyplot as plt\n",
    "from PIL import Image \n",
    "import PIL\n",
    "from skimage.measure import compare_ssim\n",
    "import cv2\n",
    "from numpy import *\n",
    "import pywt\n",
    "from resizeimage import resizeimage\n",
    "import skimage.color"
   ]
  },
  {
   "cell_type": "code",
   "execution_count": 2,
   "metadata": {},
   "outputs": [],
   "source": [
    "from scipy.optimize import rosen, differential_evolution\n",
    "bounds = [(0,2), (0, 2), (0, 2), (0, 2), (0, 2)]\n",
    "result = differential_evolution(rosen, bounds)"
   ]
  },
  {
   "cell_type": "code",
   "execution_count": 3,
   "metadata": {},
   "outputs": [
    {
     "data": {
      "text/plain": [
       "     fun: 0.0\n",
       " message: 'Optimization terminated successfully.'\n",
       "    nfev: 44631\n",
       "     nit: 594\n",
       " success: True\n",
       "       x: array([1., 1., 1., 1., 1.])"
      ]
     },
     "execution_count": 3,
     "metadata": {},
     "output_type": "execute_result"
    }
   ],
   "source": [
    "result"
   ]
  },
  {
   "cell_type": "code",
   "execution_count": null,
   "metadata": {},
   "outputs": [],
   "source": [
    "result?"
   ]
  },
  {
   "cell_type": "code",
   "execution_count": 4,
   "metadata": {},
   "outputs": [],
   "source": [
    "# -*- coding: utf-8 -*-\n",
    "# @Time    : 14/04/2017 14:46\n",
    "# @Author  : Luke\n",
    "# @Software: PyCharm\n",
    "\n",
    "import cv2\n",
    "import pywt\n",
    "import numpy as np\n",
    "\n",
    "\n",
    "class Components():\n",
    "    Coefficients = []\n",
    "    U = None\n",
    "    S = None\n",
    "    V = None\n",
    "\n",
    "\n",
    "class watermarking():\n",
    "    \"\"\"\n",
    "    :param watermark_path:\n",
    "    :param ratio:\n",
    "    :param wavelet:\n",
    "    :param level:\n",
    "    \"\"\"\n",
    "    def __init__(self, watermark_path=\"watermark1.jpg\", ratio=0.1, wavelet=\"haar\",\n",
    "                 level=2):\n",
    "        self.level = level\n",
    "        self.wavelet = wavelet\n",
    "        self.ratio = ratio\n",
    "        self.shape_watermark = cv2.imread(watermark_path,0).shape  \n",
    "        self.W_components = Components()\n",
    "        self.img_components = Components()\n",
    "        self.W_components.Coefficients, self.W_components.U, \\\n",
    "        self.W_components.S, self.W_components.V = self.calculate(watermark_path)\n",
    "        #self.W_ndarr = cv2.imread(watermark_path,0)\n",
    "        #print(\"watermark\", self.W_ndarr.shape)\n",
    "\n",
    "    def calculate(self, img):\n",
    "        '''\n",
    "        To calculate the Coefficients and SVD components.\n",
    "        :param img: should be a numpy array or the path of the image.\n",
    "        '''\n",
    "        if isinstance(img, str):\n",
    "            img = cv2.imread(img, 0)\n",
    "        Coefficients = pywt.wavedec2(img, wavelet=self.wavelet, level=self.level)\n",
    "        self.shape_LL = Coefficients[0].shape\n",
    "        U, S, V = np.linalg.svd(Coefficients[0])\n",
    "        return Coefficients, U, S, V\n",
    "\n",
    "    def diag(self, s):\n",
    "        '''\n",
    "        To recover the singular values to be a matrix.\n",
    "        :param s: a 1D numpy array\n",
    "        '''\n",
    "        S = np.zeros(self.shape_LL)\n",
    "        row = min(S.shape)\n",
    "        S[:row, :row] = np.diag(s)\n",
    "        return S\n",
    "\n",
    "    def recover(self, name):\n",
    "        '''\n",
    "        To recover the image from the svd components and DWT\n",
    "        :param name:\n",
    "        '''\n",
    "        components = eval(\"self.{}_components\".format(name))\n",
    "        s = eval(\"self.S_{}\".format(name))\n",
    "        components.Coefficients[0] = components.U.dot(self.diag(s)).dot(components.V)\n",
    "        return pywt.waverec2(components.Coefficients, wavelet=self.wavelet)\n",
    "\n",
    "    def watermark(self, img=\"lena.jpg\", path_save=None):\n",
    "        '''\n",
    "        This is the main function for image watermarking.\n",
    "        :param img: image path or numpy array of the image.\n",
    "        '''\n",
    "        if not path_save:\n",
    "            path_save = \"watermarked_\" + img\n",
    "        self.path_save = path_save\n",
    "        self.img_components.Coefficients, self.img_components.U, \\\n",
    "        self.img_components.S, self.img_components.V = self.calculate(img)\n",
    "        self.embed()\n",
    "        img_rec = self.recover(\"img\")   #watermarked image\n",
    "        cv2.imwrite(path_save, img_rec)\n",
    "\n",
    "    def extracted(self, image_path=None, ratio=None, extracted_watermark_path = None):\n",
    "        '''\n",
    "        Extracted the watermark from the given image.\n",
    "        '''\n",
    "        if not extracted_watermark_path:\n",
    "            extracted_watermark_path = \"watermark_extracted.png\"\n",
    "        if not image_path:\n",
    "            image_path = self.path_save\n",
    "        img = cv2.imread(image_path,0)\n",
    "        img = cv2.resize(img, self.shape_watermark)\n",
    "        img_components = Components() #watermarked image\n",
    "        img_components.Coefficients, img_components.U, img_components.S, img_components.V = self.calculate(img)\n",
    "        ratio_ = self.ratio if not ratio else ratio\n",
    "        self.S_W = (img_components.S - self.img_components.S) / ratio_\n",
    "        watermark_extracted = self.recover(\"W\")\n",
    "        cv2.imwrite(extracted_watermark_path, watermark_extracted)\n",
    "\n",
    "    def embed(self):\n",
    "        self.S_img = self.img_components.S + self.ratio * self.W_components.S * \\\n",
    "                                             (self.img_components.S.max() / self.W_components.S.max())\n",
    "        \n",
    "    def psnr_cal(self, img1=\"lena.png\" , img2=\"watermark_extracted.png\"):\n",
    "        im1 = cv2.imread('lena.png')\n",
    "        im2 = cv2.imread('watermark_extracted.png')\n",
    "        # Compute PSNR over tf.uint8 Tensors.\n",
    "        psnr1 = skimage.metrics.peak_signal_noise_ratio(im1, im2)\n",
    "        print(psnr1)\n",
    "\n",
    "        "
   ]
  },
  {
   "cell_type": "code",
   "execution_count": 5,
   "metadata": {},
   "outputs": [
    {
     "name": "stdout",
     "output_type": "stream",
     "text": [
      "12.502122176868875\n"
     ]
    }
   ],
   "source": [
    "water_marking = watermarking()\n",
    "water_marking.watermark()\n",
    "water_marking.extracted()\n",
    "water_marking.psnr_cal()"
   ]
  },
  {
   "cell_type": "code",
   "execution_count": 13,
   "metadata": {},
   "outputs": [],
   "source": [
    "a = (1,2)\n",
    "b = (3,4)\n",
    "c = (5,6)\n",
    "k = []\n",
    "k.append(a)\n",
    "k.append(b)\n",
    "k.append(c)"
   ]
  },
  {
   "cell_type": "code",
   "execution_count": 14,
   "metadata": {},
   "outputs": [
    {
     "data": {
      "text/plain": [
       "(1, 2)"
      ]
     },
     "execution_count": 14,
     "metadata": {},
     "output_type": "execute_result"
    }
   ],
   "source": [
    "k[0]"
   ]
  },
  {
   "cell_type": "code",
   "execution_count": 15,
   "metadata": {},
   "outputs": [
    {
     "data": {
      "text/plain": [
       "4"
      ]
     },
     "execution_count": 15,
     "metadata": {},
     "output_type": "execute_result"
    }
   ],
   "source": [
    "k[1][1]"
   ]
  },
  {
   "cell_type": "code",
   "execution_count": 23,
   "metadata": {},
   "outputs": [
    {
     "data": {
      "text/plain": [
       "array([0.        , 0.03333333, 0.06666667, 0.1       , 0.13333333,\n",
       "       0.16666667, 0.2       , 0.23333333, 0.26666667, 0.3       ,\n",
       "       0.33333333, 0.36666667, 0.4       , 0.43333333, 0.46666667,\n",
       "       0.5       , 0.53333333, 0.56666667, 0.6       , 0.63333333,\n",
       "       0.66666667, 0.7       , 0.73333333, 0.76666667, 0.8       ,\n",
       "       0.83333333, 0.86666667, 0.9       , 0.93333333, 0.96666667])"
      ]
     },
     "execution_count": 23,
     "metadata": {},
     "output_type": "execute_result"
    }
   ],
   "source": [
    "np.linspace(0, 1, num = 30, endpoint = False)"
   ]
  },
  {
   "cell_type": "code",
   "execution_count": 22,
   "metadata": {},
   "outputs": [],
   "source": [
    "import numpy as np"
   ]
  },
  {
   "cell_type": "code",
   "execution_count": null,
   "metadata": {},
   "outputs": [],
   "source": []
  }
 ],
 "metadata": {
  "kernelspec": {
   "display_name": "Python 3",
   "language": "python",
   "name": "python3"
  },
  "language_info": {
   "codemirror_mode": {
    "name": "ipython",
    "version": 3
   },
   "file_extension": ".py",
   "mimetype": "text/x-python",
   "name": "python",
   "nbconvert_exporter": "python",
   "pygments_lexer": "ipython3",
   "version": "3.7.4"
  }
 },
 "nbformat": 4,
 "nbformat_minor": 2
}
